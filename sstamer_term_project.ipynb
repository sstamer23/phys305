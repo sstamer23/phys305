{
 "cells": [
  {
   "cell_type": "markdown",
   "id": "ea202a75",
   "metadata": {},
   "source": [
    "# Orbital Dynamics Term Project\n",
    "# PHYS 305, Fall 2022\n",
    "# Sarah Stamer"
   ]
  },
  {
   "cell_type": "code",
   "execution_count": 1,
   "id": "495129c9",
   "metadata": {},
   "outputs": [],
   "source": [
    "import numpy as np\n",
    "import matplotlib.pyplot as plt\n",
    "import math"
   ]
  },
  {
   "cell_type": "markdown",
   "id": "ad1a429f",
   "metadata": {},
   "source": [
    "1: RK4 Integration"
   ]
  },
  {
   "cell_type": "code",
   "execution_count": 2712,
   "id": "6a419d58",
   "metadata": {},
   "outputs": [],
   "source": [
    "def orbitsys(u):\n",
    "    \"\"\"\n",
    "    This function takes the input state and returns the output state, which is the velocity and acceleration.\n",
    "    u: an array containing [x, y, vx, vy]\n",
    "    \"\"\"\n",
    "    x,y,vx,vy = u\n",
    "    r = np.sqrt(x**2+y**2)\n",
    "    f = G*M_sun/r**3\n",
    "    return np.array([vx, vy, -f*x, -f*y])\n",
    "\n",
    "def RK4_step(t, y, h, g, *P):\n",
    "    \"\"\"\n",
    "    Implements a single step of a fourth-order, explicit Runge-Kutta scheme\n",
    "    \"\"\"\n",
    "    k1 = h*g(y,*P)\n",
    "    k2 = h*g(y+0.5*k1,*P)\n",
    "    k3 = h*g(y+0.5*k2,*P)\n",
    "    k4 = h*g(y+k3,*P)\n",
    "    return y + (k1/6) + (k2/3) + (k3/3) + (k4/6)\n",
    "\n",
    "def odeSolve(t0, y0, tmax, h, RHS, method, *P):\n",
    "    \"\"\"\n",
    "    ODE driver with constant step-size, allowing systems of ODE's\n",
    "    \"\"\"\n",
    "    # make array of times and find length of array\n",
    "    t = np.arange(t0,tmax+h,h)\n",
    "    ntimes,  = t.shape\n",
    "\n",
    "    # find out if we are solving a scalar ODE or a system of ODEs, and allocate space accordingly\n",
    "    \n",
    "    if type(y0) in [int, float]:  # check if primitive type -- means only one eqn\n",
    "        neqn = 1\n",
    "        y = np.zeros( ntimes )\n",
    "    else:                         # otherwise assume a numpy array -- a system of more than one eqn\n",
    "        neqn, = y0.shape\n",
    "        y = np.zeros( (ntimes, neqn) )\n",
    "\n",
    "    # set first element of solution to initial conditions (possibly a vector) \n",
    "    y[0] = y0\n",
    "    x0 = y0[0]\n",
    "    vx_0 = y0[2]\n",
    "    vy_0 = y0[3] \n",
    "\n",
    "    # march on...\n",
    "    for i in range(0,ntimes-1):\n",
    "            #print(t[i])\n",
    "            y[i+1] = method(t[i], y[i], h, RHS, *P)\n",
    "            #print(y[i+1])\n",
    "            \n",
    "            def E(v, r):\n",
    "                \"\"\"\n",
    "                This function returns the total energy for a given velocity and radius.\n",
    "                v: velocity\n",
    "                r: radius\n",
    "                \"\"\"\n",
    "                return (0.5*(v**2))-((G*M_sun)/r)\n",
    "            E_tot_0 = E(np.sqrt(vy_0**2+vx_0**2), x0) #Initial Energy\n",
    "            #Getting final velocity and final position from last row, used in delta E to get the final energy\n",
    "            v_final = np.sqrt(y[i+1][2]**2 + y[i+1][3]**2)\n",
    "            r_final = np.sqrt(y[i+1][0]**2 + y[i+1][1]**2)\n",
    "            \n",
    "            delta_E = np.abs((E(v_final,r_final)-E_tot_0)/E_tot_0) #Smaller than 10^-3 for all integration times\n",
    "            #print(delta_E)\n",
    "            \n",
    "            # Check the Delta E Criterion every step\n",
    "            if delta_E >= 1e-3:\n",
    "                print('Delta E is not smaller than 10^-3 for all integration times')\n",
    "            #else:\n",
    "                #print(y[i+1]) #Prints out the state that was calculated [x, y, vx, vy]\n",
    "                \n",
    "    return t,y"
   ]
  },
  {
   "cell_type": "code",
   "execution_count": 2716,
   "id": "ecce5706",
   "metadata": {
    "scrolled": false
   },
   "outputs": [
    {
     "name": "stdout",
     "output_type": "stream",
     "text": [
      "[ 6.44393445e+11  4.09282964e+11 -1.80228654e+03  1.81143383e+03]\n"
     ]
    }
   ],
   "source": [
    "# Constants\n",
    "r_Jupiter = 5.2*(1.495978707e11) #5.2 AU in meters\n",
    "omega = 1.6793e-8 #rad/s, given in problem\n",
    "G = 6.674e-11\n",
    "M_sun = 2e30 #kg\n",
    "\n",
    "#Position Equations for Jupiter\n",
    "x_pos_Jupiter = lambda t : r_Jupiter*np.cos((omega*t)-(np.pi/6))\n",
    "y_pos_Jupiter = lambda t : r_Jupiter*np.sin((omega*t)-(np.pi/6))\n",
    "\n",
    "#Positions and Velocities for Satellite\n",
    "x0 = 1.495978707e11 #1 AU in meters\n",
    "y0 = 0  \n",
    "v_initial = (2*(((-G*M_sun)/r_Jupiter)+((G*M_sun)/x0)))**(0.5) #Energy Conservation\n",
    "#print(v_initial)\n",
    "theta = 2.696617470135335 #np.pi/160\n",
    "#v = 24000\n",
    "vx_corr = 35765.850775760395 \n",
    "vy_corr = -17055.75788207565\n",
    "vx_0 = vx_corr \n",
    "vy_0 = vy_corr + 29789.37 \n",
    "#print(vy_0/vx_0)\n",
    "#print(vx_0, vy_0)\n",
    "#print(np.sqrt(vx_0**2+vy_0**2))\n",
    "state_0 = np.array([x0, y0, vx_0, vy_0]) #Creating an array containing the initial state variables\n",
    "\n",
    "t_max = 31536000*2.08\n",
    "t, y = odeSolve(0, state_0, t_max, 5000, orbitsys, RK4_step)\n",
    "print(y[-1])\n",
    "#print(y[int(len(t)/2)])"
   ]
  },
  {
   "cell_type": "code",
   "execution_count": 2714,
   "id": "dc3d70dd",
   "metadata": {},
   "outputs": [
    {
     "name": "stdout",
     "output_type": "stream",
     "text": [
      "X correction velocity (m/s):  35765.850775760395\n",
      "Y correction velocity (m/s):  -17055.75788207565\n",
      "[35765.85077576 12733.61211792]\n",
      "37964.99650050783\n",
      "37964.99650050965\n"
     ]
    }
   ],
   "source": [
    "#To find vx_corr and vy_corr\n",
    "theta = 2*math.pi *.42918 #Angle I found\n",
    "vy_boost = 29789.37\n",
    "v_initial = (2*(((-G*M_sun)/r_Jupiter)+((G*M_sun)/x0)))**(0.5) #Energy Conservation\n",
    "\n",
    "#Quadratic Formula\n",
    "a = (1/math.cos(theta))**2\n",
    "b = 2*vy_boost*math.tan(theta)\n",
    "c = -1*(v_initial**2 - 29789.37**2)\n",
    "\n",
    "vx_corr = (-1*b + (b**2 - 4*a*c)**(.5))/(2*a)\n",
    "print(\"X correction velocity (m/s): \", vx_corr)\n",
    "\n",
    "vy_corr = math.tan(theta)*vx_corr\n",
    "print(\"Y correction velocity (m/s): \", vy_corr)\n",
    "\n",
    "\n",
    "v = np.array((vx_corr + 0,  vycorr1  + vy_boost)) #the initial velocity vector of the spaceship at t=0\n",
    "print(v)\n",
    "print(np.sqrt(35765.85077576**2+12733.61211792**2))\n",
    "print(v_initial)"
   ]
  },
  {
   "cell_type": "markdown",
   "id": "c93b34b9",
   "metadata": {},
   "source": [
    "2: Convergence"
   ]
  },
  {
   "cell_type": "code",
   "execution_count": 2682,
   "id": "92c205ab",
   "metadata": {},
   "outputs": [],
   "source": [
    "def odeSolve(t0, y0, tmax, h, RHS, method, *P):\n",
    "    \"\"\"\n",
    "    ODE driver with constant step-size, allowing systems of ODE's\n",
    "    \"\"\"\n",
    "    # make array of times and find length of array\n",
    "    t = np.arange(t0,tmax+h,h)\n",
    "    ntimes,  = t.shape\n",
    "\n",
    "    # find out if we are solving a scalar ODE or a system of ODEs, and allocate space accordingly\n",
    "    \n",
    "    if type(y0) in [int, float]:  # check if primitive type -- means only one eqn\n",
    "        neqn = 1\n",
    "        y = np.zeros( ntimes )\n",
    "    else:                         # otherwise assume a numpy array -- a system of more than one eqn\n",
    "        neqn, = y0.shape\n",
    "        y = np.zeros( (ntimes, neqn) )\n",
    "\n",
    "    # set first element of solution to initial conditions (possibly a vector) \n",
    "    y[0]=y0\n",
    "\n",
    "    # march on...\n",
    "    for i in range(0,ntimes-1):\n",
    "            y[i+1] = method(t[i], y[i], h, RHS, *P)\n",
    "            \n",
    "    return t,y"
   ]
  },
  {
   "cell_type": "code",
   "execution_count": 2683,
   "id": "7487061c",
   "metadata": {},
   "outputs": [
    {
     "data": {
      "image/png": "[encoded data removed]",
      "text/plain": [
       "<Figure size 432x288 with 1 Axes>"
      ]
     },
     "metadata": {
      "needs_background": "light"
     },
     "output_type": "display_data"
    }
   ],
   "source": [
    "h_list = [t_max, 500000, 1000000, 2000000, 4000000, 16000000, 32000000, t_max/2]\n",
    "delta_E_list = []\n",
    "for h in h_list:\n",
    "    t, y = odeSolve(0, state_0, t_max, h, orbitsys, RK4_step)\n",
    "    v_final = np.sqrt(y[-1][-1]**2 + y[-1][-2]**2) #Using last state to get final velocity (last two elements of last row)\n",
    "    r_final = np.sqrt(y[-1][-4]**2 + y[-1][-3]**2) #Using last state to get final position (first two elements of last row)\n",
    "    def E(v, r):\n",
    "        \"\"\"\n",
    "        This function returns the total energy for a given velocity and radius.\n",
    "        v: velocity\n",
    "        r: radius\n",
    "        \"\"\"\n",
    "        return (0.5*(v**2))-((G*M_sun)/r)\n",
    "    E_tot_0 = E(np.sqrt(vx_0**2+vy_0**2), x0)\n",
    "    delta_E = np.abs((E(v_final,r_final)-E_tot_0)/E_tot_0)\n",
    "    delta_E_list.append(delta_E)\n",
    "\n",
    "plt.plot(h_list, delta_E_list,'o')\n",
    "plt.xlabel('Step Size (h)')\n",
    "plt.ylabel('Delta E')\n",
    "plt.title('Convergence for Delta E')\n",
    "plt.show()"
   ]
  },
  {
   "cell_type": "code",
   "execution_count": 2684,
   "id": "117ab3ad",
   "metadata": {},
   "outputs": [
    {
     "name": "stdout",
     "output_type": "stream",
     "text": [
      "[  2.17159826 -37.49925156]\n"
     ]
    },
    {
     "data": {
      "image/png": "[encoded data removed]",
      "text/plain": [
       "<Figure size 432x288 with 1 Axes>"
      ]
     },
     "metadata": {
      "needs_background": "light"
     },
     "output_type": "display_data"
    }
   ],
   "source": [
    "#Log-log: slope is power\n",
    "plt.loglog(h_list, delta_E_list,'o')\n",
    "plt.xlabel('Log of Step Size (h)')\n",
    "plt.ylabel('Log of Delta E')\n",
    "plt.title('Log-Log Plot for Convergence')\n",
    "fit = np.polyfit(np.log(h_list), np.log(delta_E_list), 1) #Making a linear fit to the log-log plot\n",
    "print(fit)"
   ]
  },
  {
   "cell_type": "markdown",
   "id": "7735b0d0",
   "metadata": {},
   "source": [
    "3: Self-Convergence"
   ]
  },
  {
   "cell_type": "code",
   "execution_count": 2685,
   "id": "dd1d97fd",
   "metadata": {},
   "outputs": [],
   "source": [
    "def odeSolve(t0, y0, tmax, h, RHS, method, *P):\n",
    "    \"\"\"\n",
    "    ODE driver with constant step-size, allowing systems of ODE's\n",
    "    \"\"\"\n",
    "    # make array of times and find length of array\n",
    "    t = np.arange(t0,tmax+h,h)\n",
    "    ntimes,  = t.shape\n",
    "\n",
    "    # find out if we are solving a scalar ODE or a system of ODEs, and allocate space accordingly\n",
    "    \n",
    "    if type(y0) in [int, float]:  # check if primitive type -- means only one eqn\n",
    "        neqn = 1\n",
    "        y = np.zeros( ntimes )\n",
    "    else:                         # otherwise assume a numpy array -- a system of more than one eqn\n",
    "        neqn, = y0.shape\n",
    "        y = np.zeros( (ntimes, neqn) )\n",
    "\n",
    "    # set first element of solution to initial conditions (possibly a vector) \n",
    "    y[0] = y0\n",
    "\n",
    "    # march on...\n",
    "    for i in range(0,ntimes-1):\n",
    "        y[i+1] = method(t[i], y[i], h, RHS, *P)\n",
    "\n",
    "    return t,y"
   ]
  },
  {
   "cell_type": "code",
   "execution_count": 2686,
   "id": "7b4fd4d6",
   "metadata": {},
   "outputs": [],
   "source": [
    "h2 = 5000 #Step Size\n",
    "h3 = 5000/2 #Half of Step Size\n",
    "\n",
    "#Analytic Convergence\n",
    "def func_RHS(n):\n",
    "    func_RHS_list = []\n",
    "    h_list = []\n",
    "    for x in [t_max/h2, t_max/(5000*2), t_max/(5000*4), t_max/(5000*8), t_max/(5000*16)]:\n",
    "        h = t_max/x\n",
    "        h_list.append(h)\n",
    "        func_RHS_list.append((((h/h3)**n)-1)/(2**n - 1))\n",
    "    return func_RHS_list, h_list\n",
    "\n",
    "#Self-Convergence\n",
    "def func_LHS(n):\n",
    "    func_LHS_list = []\n",
    "    h_list = []\n",
    "    for x in [t_max/h2, t_max/(5000*2), t_max/(5000*4), t_max/(5000*8), t_max/(5000*16)]: # Different Step Sizes\n",
    "        h = t_max/x\n",
    "        h_list.append(h) \n",
    "    if n == 4:\n",
    "        # Solving the ODE with step size h2 and h3\n",
    "        t, y_RK4_h2 = odeSolve(0, state_0, t_max, h2, orbitsys, RK4_step)\n",
    "        t, y_RK4_h3 = odeSolve(0, state_0, t_max, h3, orbitsys, RK4_step)\n",
    "        y_h3 = y_RK4_h3[int(t_max/h3)]\n",
    "        y_h2 = y_RK4_h2[int(t_max/h2)]\n",
    "        # Solving at different step sizes\n",
    "        for h in h_list:\n",
    "            t, y_RK4_h = odeSolve(0, state_0, t_max, h, orbitsys, RK4_step)\n",
    "            func_LHS_list.append((y_RK4_h[int(t_max/h)]-y_h3)/(y_h2-y_h3)) \n",
    "    return func_LHS_list, h_list\n",
    "\n",
    "\n",
    "l_list_4, h_list_4 = func_LHS(4)\n",
    "r_list_4, h_list_4 = func_RHS(4)"
   ]
  },
  {
   "cell_type": "code",
   "execution_count": 2687,
   "id": "ae649cf4",
   "metadata": {},
   "outputs": [
    {
     "data": {
      "text/plain": [
       "<matplotlib.legend.Legend at 0x7fd8e362a7c0>"
      ]
     },
     "execution_count": 2687,
     "metadata": {},
     "output_type": "execute_result"
    },
    {
     "data": {
      "image/png": "[encoded data removed]",
      "text/plain": [
       "<Figure size 432x288 with 1 Axes>"
      ]
     },
     "metadata": {
      "needs_background": "light"
     },
     "output_type": "display_data"
    }
   ],
   "source": [
    "fig,ax = plt.subplots()\n",
    "ax.loglog(h_list_4,r_list_4,'r',label = 'Analytic Convergence ' + r'$n^4$')\n",
    "ax.loglog(h_list_4,l_list_4,'o',label = 'RK4 Self-Convergence')\n",
    "ax.set_title('Order 4 Convergence at t=t_max')\n",
    "ax.set_xlabel('Log of Step Size')\n",
    "ax.set_ylabel('Log of Analytic or Self-Convergence Value')\n",
    "ax.legend(loc='upper left')"
   ]
  },
  {
   "cell_type": "markdown",
   "id": "9b48b0a1",
   "metadata": {},
   "source": [
    "4: Richardson Extrapolation"
   ]
  },
  {
   "cell_type": "code",
   "execution_count": 2721,
   "id": "a934ae1e",
   "metadata": {},
   "outputs": [],
   "source": [
    "def orbitsys(u):\n",
    "    \"\"\"\n",
    "    This function takes the input state and returns the output state, which is the velocity and acceleration.\n",
    "    u: an array containing [x, y, vx, vy]\n",
    "    \"\"\"\n",
    "    x,y,vx,vy = u\n",
    "    r = np.sqrt(x**2+y**2)\n",
    "    f = G*M_sun/r**3\n",
    "    return np.array([vx, vy, -f*x, -f*y])\n",
    "\n",
    "def RK4_step(t, y, h, g, *P):\n",
    "    \"\"\"\n",
    "    Implements a single step of a fourth-order, explicit Runge-Kutta scheme\n",
    "    \"\"\"\n",
    "    k1 = h*g(y,*P)\n",
    "    k2 = h*g(y+0.5*k1,*P)\n",
    "    k3 = h*g(y+0.5*k2,*P)\n",
    "    k4 = h*g(y+k3,*P)\n",
    "    return y + (k1/6) + (k2/3) + (k3/3) + (k4/6)\n",
    "\n",
    "def odeSolve(t0, y0, tmax, h, RHS, method, *P):\n",
    "    \"\"\"\n",
    "    ODE driver with constant step-size, allowing systems of ODE's\n",
    "    \"\"\"\n",
    "    # make array of times and find length of array\n",
    "    t = np.arange(t0,tmax+h,h)\n",
    "    ntimes,  = t.shape\n",
    "\n",
    "    # find out if we are solving a scalar ODE or a system of ODEs, and allocate space accordingly\n",
    "    \n",
    "    if type(y0) in [int, float]:  # check if primitive type -- means only one eqn\n",
    "        neqn = 1\n",
    "        y = np.zeros( ntimes )\n",
    "    else:                         # otherwise assume a numpy array -- a system of more than one eqn\n",
    "        neqn, = y0.shape\n",
    "        y = np.zeros( (ntimes, neqn) )\n",
    "\n",
    "    # set first element of solution to initial conditions (possibly a vector) \n",
    "    y[0] = y0\n",
    "\n",
    "    # march on...\n",
    "    for i in range(0,ntimes-1):\n",
    "        y[i+1] = method(t[i], y[i], h, RHS, *P)\n",
    "\n",
    "    return t,y"
   ]
  },
  {
   "cell_type": "code",
   "execution_count": 2723,
   "id": "5137de3a",
   "metadata": {},
   "outputs": [
    {
     "name": "stdout",
     "output_type": "stream",
     "text": [
      "[5.92873011e+11 2.85359087e+11 5.37639443e+03 5.80077724e+03] [5.92859570e+11 2.85344585e+11 5.37708899e+03 5.80111153e+03]\n",
      "14337066.666625977 15468800.0\n"
     ]
    }
   ],
   "source": [
    "h1 = 5000 #Step Size\n",
    "h2 = 5000/2 #Half of Step Size\n",
    "p=4 #Expected Order of Convergence for RK4\n",
    "\n",
    "t, y_RK4_h1 = odeSolve(0, state_0, int(t_max/2), h1, orbitsys, RK4_step)\n",
    "t, y_RK4_h2 = odeSolve(0, state_0, int(t_max/2), h2, orbitsys, RK4_step)\n",
    "print(y_RK4_h1[-1], y_RK4_h2[-1]) #Used to get x1, x2, y1, y2\n",
    "x1 = 5.92873011e+11\n",
    "y1 = 2.85359087e+11\n",
    "x2 = 5.92859570e+11\n",
    "y2 = 2.85344585e+11\n",
    "\n",
    "#Both from the RK4 Integration at t_max/2\n",
    "x_exact = 5.92873011e+11\n",
    "y_exact = 2.85359087e+11\n",
    "\n",
    "x = (2**p * x2 - x1)/(2**p -1)\n",
    "y = (2**p * y2 - y1)/(2**p -1)\n",
    "\n",
    "#Error Between RK4 and Richardson\n",
    "x_err = np.abs(x_exact - x)\n",
    "y_err = np.abs(y_exact - y)\n",
    "print(x_err, y_err)"
   ]
  },
  {
   "cell_type": "markdown",
   "id": "794269b8",
   "metadata": {},
   "source": [
    "5: Plotting Orbits"
   ]
  },
  {
   "cell_type": "code",
   "execution_count": 2724,
   "id": "07feeb5f",
   "metadata": {},
   "outputs": [
    {
     "name": "stdout",
     "output_type": "stream",
     "text": [
      "645035861008.4768 434822995844.364\n"
     ]
    },
    {
     "data": {
      "text/plain": [
       "<matplotlib.legend.Legend at 0x7fd8dde37160>"
      ]
     },
     "execution_count": 2724,
     "metadata": {},
     "output_type": "execute_result"
    },
    {
     "data": {
      "image/png": "[encoded data removed]",
      "text/plain": [
       "<Figure size 432x288 with 1 Axes>"
      ]
     },
     "metadata": {
      "needs_background": "light"
     },
     "output_type": "display_data"
    }
   ],
   "source": [
    "# Position Equations for Planets\n",
    "x_pos_Jupiter = lambda t : r_Jupiter*np.cos((omega*t)-(np.pi/6))\n",
    "y_pos_Jupiter = lambda t : r_Jupiter*np.sin((omega*t)-(np.pi/6))\n",
    "x_pos_Earth = lambda t : x0*np.cos(1.99e-7*t)\n",
    "y_pos_Earth = lambda t : x0*np.sin(1.99e-7*t)\n",
    "\n",
    "#Lists for Storing Positions\n",
    "x_Jup_list = []\n",
    "y_Jup_list = []\n",
    "x_Earth_list = []\n",
    "y_Earth_list = []\n",
    "\n",
    "#Adding the Positions at each time to the lists\n",
    "for t in range(0, int(t_max+1750000), 1750000):\n",
    "    x_Jup = x_pos_Jupiter(t)\n",
    "    y_Jup = y_pos_Jupiter(t)\n",
    "    x_Jup_list.append(x_Jup)\n",
    "    y_Jup_list.append(y_Jup)\n",
    "    x_Earth = x_pos_Earth(t)\n",
    "    y_Earth = y_pos_Earth(t)\n",
    "    x_Earth_list.append(x_Earth)\n",
    "    y_Earth_list.append(y_Earth)\n",
    "    \n",
    "#Plotting for the Planets\n",
    "plt.plot(x_Jup_list, y_Jup_list, label='Jupiter Orbit')\n",
    "plt.plot(x_Jup_list[-1], y_Jup_list[-1],  'o', color='blue', label='Jupiter Position') \n",
    "plt.plot(x_Earth_list, y_Earth_list, label='Earth Orbit')\n",
    "print(x_Jup_list[-1], y_Jup_list[-1])\n",
    "\n",
    "#Plotting for the Satellite\n",
    "satellite_pos_x = [1.495978707e11, 4.60191464e+11, 5.92873011e+11, 6.47529096e+11, 6.44393445e+11] #initial, 1/4 way through, 1/2 way through, 3/4 way through, final\n",
    "satellite_pos_y = [0, 1.70407965e+11, 2.85359087e+11, 3.63468863e+11, 4.09282964e+11] #initial, 1/4 way through, 1/2 way through, 3/4 way through, final\n",
    "plt.plot(satellite_pos_x, satellite_pos_y, 'o', label='Satellite Position')\n",
    "plt.xlabel('X-Position (m)')\n",
    "plt.ylabel('Y-Position (m)')\n",
    "plt.title('Orbits and Trajectories')\n",
    "plt.legend(loc='lower left')"
   ]
  },
  {
   "cell_type": "code",
   "execution_count": null,
   "id": "f7e6636a",
   "metadata": {},
   "outputs": [],
   "source": []
  }
 ],
 "metadata": {
  "kernelspec": {
   "display_name": "Python 3 (ipykernel)",
   "language": "python",
   "name": "python3"
  },
  "language_info": {
   "codemirror_mode": {
    "name": "ipython",
    "version": 3
   },
   "file_extension": ".py",
   "mimetype": "text/x-python",
   "name": "python",
   "nbconvert_exporter": "python",
   "pygments_lexer": "ipython3",
   "version": "3.9.7"
  }
 },
 "nbformat": 4,
 "nbformat_minor": 5
}
